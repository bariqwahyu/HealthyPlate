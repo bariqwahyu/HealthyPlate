{
  "nbformat": 4,
  "nbformat_minor": 0,
  "metadata": {
    "colab": {
      "name": "Generate Recipe.ipynb",
      "provenance": [],
      "include_colab_link": true
    },
    "kernelspec": {
      "name": "python3",
      "display_name": "Python 3"
    },
    "language_info": {
      "name": "python"
    }
  },
  "cells": [
    {
      "cell_type": "markdown",
      "metadata": {
        "id": "view-in-github",
        "colab_type": "text"
      },
      "source": [
        "<a href=\"https://colab.research.google.com/github/intancitra/healthyplate/blob/main/Generate_Recipe.ipynb\" target=\"_parent\"><img src=\"https://colab.research.google.com/assets/colab-badge.svg\" alt=\"Open In Colab\"/></a>"
      ]
    },
    {
      "cell_type": "code",
      "source": [
        "!git clone https://github.com/intancitra/healthyplate.git"
      ],
      "metadata": {
        "colab": {
          "base_uri": "https://localhost:8080/"
        },
        "id": "3zpT11bh7Gcb",
        "outputId": "b296ae64-e473-4c84-d7ec-5b57815bd993"
      },
      "execution_count": 4,
      "outputs": [
        {
          "output_type": "stream",
          "name": "stdout",
          "text": [
            "Cloning into 'healthyplate'...\n",
            "remote: Enumerating objects: 45, done.\u001b[K\n",
            "remote: Counting objects: 100% (45/45), done.\u001b[K\n",
            "remote: Compressing objects: 100% (44/44), done.\u001b[K\n",
            "remote: Total 45 (delta 16), reused 0 (delta 0), pack-reused 0\u001b[K\n",
            "Unpacking objects: 100% (45/45), done.\n"
          ]
        }
      ]
    },
    {
      "cell_type": "code",
      "execution_count": 5,
      "metadata": {
        "id": "d7O-ddVsb2zV",
        "colab": {
          "base_uri": "https://localhost:8080/"
        },
        "outputId": "58d1f775-bbb9-4f7b-f72f-f141dbbc776f"
      },
      "outputs": [
        {
          "output_type": "stream",
          "name": "stdout",
          "text": [
            "['3', '6', '8', '9', '10', '11', '16', '18', '19', '23', '24', '27', '31', '32', '38', '44', '45', '50']\n"
          ]
        }
      ],
      "source": [
        "import csv\n",
        "\n",
        "keyword = ['Kembang Kol','Daun Kale','Madu','Susu','Apel']\n",
        "result = []\n",
        "with open(\"/content/healthyplate/Bahan 50.csv\", 'r') as csvfile:\n",
        "  csv_reader = csv.DictReader(csvfile)\n",
        "  line_count = 1\n",
        "  for row in csv_reader:\n",
        "    for key in keyword:\n",
        "      if key in row[\"Bahan-Bahan\"]:\n",
        "        result.append(str(line_count))\n",
        "        break\n",
        "    line_count += 1\n",
        "\n",
        "print(result)"
      ]
    },
    {
      "cell_type": "code",
      "source": [
        "#Remove duplicates of the result\n",
        "res = set(map(int,result))\n",
        "print(res)"
      ],
      "metadata": {
        "colab": {
          "base_uri": "https://localhost:8080/"
        },
        "id": "ItHcsbWWdACn",
        "outputId": "d3315f41-f12c-4c4d-a8a0-6dcb0fb84bf8"
      },
      "execution_count": 6,
      "outputs": [
        {
          "output_type": "stream",
          "name": "stdout",
          "text": [
            "{32, 3, 6, 38, 8, 9, 10, 11, 44, 45, 16, 18, 19, 50, 23, 24, 27, 31}\n"
          ]
        }
      ]
    },
    {
      "cell_type": "code",
      "source": [
        "#Show the recipe based on the result (ID)\n",
        "recipe = []\n",
        "with open(\"/content/healthyplate/Bahan 50.csv\", 'r') as csvfile:\n",
        "  csv_reader = csv.reader(csvfile, delimiter=',')\n",
        "  line_count = 0\n",
        "  for row in csv_reader:\n",
        "    if line_count in res:\n",
        "      recipe.append(row[1])\n",
        "    line_count += 1\n",
        "\n",
        "print(recipe)"
      ],
      "metadata": {
        "colab": {
          "base_uri": "https://localhost:8080/"
        },
        "id": "I1LunjDedFTn",
        "outputId": "a4694226-d843-4c81-9e98-be6a7ca9afd3"
      },
      "execution_count": 8,
      "outputs": [
        {
          "output_type": "stream",
          "name": "stdout",
          "text": [
            "['Kolak Pisang Kuah Susu', 'Oatmeal Raisin with Honey', 'Cap Jay Kuah Sehat', 'Acar Sehat Madu', 'Jus Apel Sehat', 'Banana Oats Soft Cookies', 'Healthy Oats Cookies', 'Kue Kering Jahe Coklat', 'Capucino Cincau Sehat', 'Greek Lemon Chicken Grill', 'Wedang Jahe', 'Kolak Ubi', 'Jus Kale Kurma', 'Susu Goreng', 'Cake Protein', 'Healthy Apple Crumble', 'Healthy Muffin', 'Tumis Bunga Kol']\n"
          ]
        }
      ]
    }
  ]
}