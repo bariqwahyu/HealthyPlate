{
  "nbformat": 4,
  "nbformat_minor": 0,
  "metadata": {
    "colab": {
      "name": "Generate Recipe.ipynb",
      "provenance": [],
      "include_colab_link": true
    },
    "kernelspec": {
      "name": "python3",
      "display_name": "Python 3"
    },
    "language_info": {
      "name": "python"
    }
  },
  "cells": [
    {
      "cell_type": "markdown",
      "metadata": {
        "id": "view-in-github",
        "colab_type": "text"
      },
      "source": [
        "<a href=\"https://colab.research.google.com/github/intancitra/healthyplate/blob/main/Generate_Recipe.ipynb\" target=\"_parent\"><img src=\"https://colab.research.google.com/assets/colab-badge.svg\" alt=\"Open In Colab\"/></a>"
      ]
    },
    {
      "cell_type": "code",
      "source": [
        "import requests\n",
        "\n",
        "url = \"https://raw.githubusercontent.com/intancitra/healthyplate/main/Bahan%2050.csv\"\n",
        "download = requests.get(url, allow_redirects=True)"
      ],
      "metadata": {
        "id": "O3uZDjy4clpQ"
      },
      "execution_count": 89,
      "outputs": []
    },
    {
      "cell_type": "code",
      "execution_count": 97,
      "metadata": {
        "id": "d7O-ddVsb2zV",
        "colab": {
          "base_uri": "https://localhost:8080/"
        },
        "outputId": "c5b7342b-0084-4137-c681-2ed6e6409aab"
      },
      "outputs": [
        {
          "output_type": "stream",
          "name": "stdout",
          "text": [
            "['3', '6', '8', '9', '10', '11', '16', '18', '19', '23', '24', '27', '31', '32', '38', '44', '45', '50']\n"
          ]
        }
      ],
      "source": [
        "import csv\n",
        "\n",
        "keyword = ['Kembang Kol','Daun Kale','Madu','Susu','Apel']\n",
        "result = []\n",
        "with open(\"Bahan 50.csv\", 'r') as csvfile:\n",
        "  csv_reader = csv.DictReader(csvfile)\n",
        "  line_count = 1\n",
        "  for row in csv_reader:\n",
        "    for key in keyword:\n",
        "      if key in row[\"Bahan-Bahan\"]:\n",
        "        result.append(str(line_count))\n",
        "        break\n",
        "    line_count += 1\n",
        "\n",
        "print(result)"
      ]
    },
    {
      "cell_type": "code",
      "source": [
        "#Remove duplicates of the result\n",
        "res = set(map(int,result))\n",
        "print(res)"
      ],
      "metadata": {
        "colab": {
          "base_uri": "https://localhost:8080/"
        },
        "id": "ItHcsbWWdACn",
        "outputId": "40e151cc-3ff6-4c6f-ae6c-652346da6665"
      },
      "execution_count": 98,
      "outputs": [
        {
          "output_type": "stream",
          "name": "stdout",
          "text": [
            "{32, 3, 6, 38, 8, 9, 10, 11, 44, 45, 16, 18, 19, 50, 23, 24, 27, 31}\n"
          ]
        }
      ]
    },
    {
      "cell_type": "code",
      "source": [
        "#Show the recipe based on the result (ID)\n",
        "recipe = []\n",
        "with open(\"Bahan 50.csv\", 'r') as csvfile:\n",
        "  csv_reader = csv.reader(csvfile, delimiter=',')\n",
        "  line_count = 0\n",
        "  for row in csv_reader:\n",
        "    if line_count in res:\n",
        "      recipe.append(row[0])\n",
        "    line_count += 1\n",
        "\n",
        "print(recipe)"
      ],
      "metadata": {
        "colab": {
          "base_uri": "https://localhost:8080/"
        },
        "id": "I1LunjDedFTn",
        "outputId": "c6ff648f-1f87-4591-926c-cf99fd98fcb4"
      },
      "execution_count": 99,
      "outputs": [
        {
          "output_type": "stream",
          "name": "stdout",
          "text": [
            "['Kolak Pisang Kuah Susu', 'Oatmeal Raisin with Honey', 'Cap Jay Kuah Sehat', 'Acar Sehat Madu', 'Jus Apel Sehat', 'Banana Oats Soft Cookies', 'Healthy Oats Cookies', 'Kue Kering Jahe Coklat', 'Capucino Cincau Sehat', 'Greek Lemon Chicken Grill', 'Wedang Jahe', 'Kolak Ubi', 'Jus Kale Kurma', 'Susu Goreng', 'Cake Protein', 'Healthy Apple Crumble', 'Healthy Muffin', 'Tumis Bunga Kol']\n"
          ]
        }
      ]
    }
  ]
}