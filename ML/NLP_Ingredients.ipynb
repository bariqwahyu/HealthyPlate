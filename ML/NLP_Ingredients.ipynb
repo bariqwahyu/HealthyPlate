{
  "nbformat": 4,
  "nbformat_minor": 0,
  "metadata": {
    "colab": {
      "name": "NLP Ingredients.ipynb",
      "provenance": [],
      "authorship_tag": "ABX9TyN1O5fnZZ7JVPwTRGwr0e4L",
      "include_colab_link": true
    },
    "kernelspec": {
      "name": "python3",
      "display_name": "Python 3"
    },
    "language_info": {
      "name": "python"
    }
  },
  "cells": [
    {
      "cell_type": "markdown",
      "metadata": {
        "id": "view-in-github",
        "colab_type": "text"
      },
      "source": [
        "<a href=\"https://colab.research.google.com/github/intancitra/healthyplate/blob/main/NLP_Ingredients.ipynb\" target=\"_parent\"><img src=\"https://colab.research.google.com/assets/colab-badge.svg\" alt=\"Open In Colab\"/></a>"
      ]
    },
    {
      "cell_type": "code",
      "execution_count": 3,
      "metadata": {
        "colab": {
          "base_uri": "https://localhost:8080/"
        },
        "id": "oJeshRjeLtnO",
        "outputId": "fa233cf7-d266-41a0-b9eb-2d3f97a4508b"
      },
      "outputs": [
        {
          "output_type": "stream",
          "name": "stdout",
          "text": [
            "[('1', 360), ('buah', 227), ('2', 150), ('bawang', 146), ('sdm', 132), ('sdt', 124), ('siung', 103), ('gram', 102), ('3', 94), ('1/2', 91), ('putih', 88), ('Secukupnya', 80), ('merah', 61), ('secukupnya', 60), ('daun', 59), ('bubuk', 56), ('ayam', 53), ('garam', 51), ('air', 50), ('butir', 49), ('ml', 47), ('dan', 47), ('4', 45), ('telur', 45), ('wortel', 44), ('lada', 39), ('potong', 35), ('batang', 34), ('1/4', 33), ('Garam', 32), ('lembar', 32), ('gula', 31), ('tepung', 31), ('5', 29), ('iris', 28), ('kaldu', 28), ('cabai', 27), ('ukuran', 26), ('Bawang', 25), ('manis', 25), ('halus', 24), ('jamur', 23), ('saus', 23), ('minyak', 23), ('tahu', 23), ('50', 22), ('sendok', 22), ('cincang', 21), ('kecil', 20), ('dada', 20), ('tomat', 20), ('ruas', 19), ('100', 19), ('hijau', 19), ('bh', 19), ('Daun', 18), ('susu', 18), ('6', 17), ('10', 17), ('selera', 17), ('putih,', 17), ('atau', 17), ('gr', 17), ('sedang', 16), ('sesuai', 16), ('tiram', 16), ('rawit', 16), ('parut', 16), ('madu', 15), ('salam', 15), ('cabe', 15), ('Kecap', 15), ('(opsional)', 14), ('ikat', 14), ('besar', 14), ('jeruk', 14), ('geprek', 14), ('Wortel', 14), ('pisang', 13), ('jagung', 13), ('kecap', 13), ('Air', 13), ('grm', 13), ('cm', 12), ('kacang', 12), ('jahe', 12), ('(potong', 12), ('biji', 12), ('150', 11), ('Gula', 11), ('kotak', 11), ('garam,', 11), ('tipis', 11), ('kentang', 11), ('Saus', 11), ('fillet', 11), ('kayu', 10), ('Kaldu', 10), ('bungkus', 10), ('goreng', 10), ('chia', 10), ('rebus', 10), ('kunyit', 10), ('penyedap', 10), ('brokoli', 10), ('haluskan', 10), ('bombay', 9), ('250', 9), ('liter', 9), ('pasir', 9), ('Sedikit', 9), ('kg', 9), ('Sejumput', 9), ('200', 9), ('terigu', 9), ('Telur', 9), ('Lada', 8), ('kuning', 8), ('merica', 8), ('wortel,', 8), ('bawang,', 8), ('untuk', 8), ('sawi', 8), ('kol', 8), ('8', 8), ('dengan', 8), ('tapioka', 8), ('matang', 8), ('yang', 8), ('cair', 8), ('bonggol', 8), ('keriting', 8), ('kulit', 8), ('rasa', 8), ('dadu', 8), ('cup', 8), ('Jagung', 8), ('Ayam', 7), ('Penyedap', 7), ('ekor', 7), ('labu', 7), ('ikan', 7), ('oat', 7), ('(bisa', 7), ('selera)', 7), ('20', 7), ('buncis', 7), ('wijen', 7), ('zaitun', 7), ('almond', 7), ('ketumbar', 7), ('Buah', 7), ('bayam', 7), ('Minyak', 6), ('Putih', 6), ('nanas', 6), ('kismis', 6), ('bumbu', 6), ('giling', 6), ('gula,', 6), ('kurma', 6), ('telur,', 6), ('7', 6), ('tanpa', 6), ('tulang', 6), ('olive', 6), ('lemon', 6), ('Jeruk', 6), ('dari', 6), ('Bahan', 6), ('daging', 6), ('jari', 6), ('sudah', 6), ('potong-potong', 6), ('kemiri', 6), ('roti', 6), ('pakai', 6), ('teh', 6), ('Tepung', 6), ('makan', 6), ('bisa', 6), (':', 6), ('(sy', 6), ('seledri', 5), ('cengkeh', 5), ('Sawi', 5), ('500', 5), ('400', 5), ('Kacang', 5), ('bagian', 5), ('pala', 5), ('timun', 5), ('apel', 5), ('instan', 5), ('Garam,', 5), ('pandan', 5), ('keping', 5), ('lada,', 5), ('25', 5), ('oil', 5), ('naga', 5), ('hitam', 5), ('seed', 5), ('sedikit', 5), ('tempe', 5), ('bakso', 5), ('maizena', 5), ('kupas', 5), ('Buncis', 5), ('bubuk,', 5), ('30', 5), ('Jamur', 5), ('saja', 5), ('tawar', 5), ('low', 5), ('ambil', 5), ('di', 5), ('Kol', 5), ('pake', 5), ('Bumbu', 5), ('Mentega', 5), ('(haluskan)', 5), ('Rasa', 4), ('siam', 4), ('bihun', 4), ('Bakso', 4), ('sachet', 4), ('ayam,', 4), ('kembang', 4), ('Cabai', 4), ('ubi', 4), ('fiber', 4), ('helai', 4), ('2-3', 4), ('oats', 4), ('baking', 4), ('daunnya', 4), ('serai', 4), ('nipis', 4), ('sop', 4), ('tanah', 4), ('kencur', 4), ('Tiram', 4), ('keju', 4), ('asin', 4), ('oatmeal', 4), ('air\\n1', 4), ('kocok', 4), ('terasi', 4), ('kampung', 4), ('beras', 4), ('75', 4), ('Beras', 4), ('pokcoy', 4), ('asam', 4), ('sangrai', 4), ('Ikan', 4), ('Brokoli', 4), ('Susu', 4), ('Selada', 4), ('Saos', 4), ('kira2', 4), ('btg', 4), ('Tomat', 4), ('+', 4), ('iris2', 4), ('Merah', 3), ('hangat', 3), ('Merica', 3), ('Garam\\n1', 3), ('kasar', 3), ('buang', 3), ('12', 3), ('pisahkan', 3), ('kapulaga', 3), ('panas', 3), ('Madu', 3), ('santan', 3), ('(sesuai', 3), ('seeds', 3), ('powder', 3), ('protein', 3), ('coklat', 3), ('muda', 3), ('dadu)', 3), ('es', 3), ('lengkuas', 3), ('kelapa', 3), ('300', 3), ('genggam', 3), ('sapi', 3), ('parsley', 3), ('bombai', 3), ('kale', 3), ('Manis', 3), ('Asin', 3), ('sosis', 3), ('kecil)', 3), ('rolled', 3), ('Serai', 3)]\n"
          ]
        }
      ],
      "source": [
        "import nltk\n",
        "\n",
        "with open (\"/content/Bahan.txt\", \"r\") as myfile:\n",
        "    data=myfile.read()\n",
        "\n",
        "data = data.split(' ')\n",
        "fdist1 = nltk.FreqDist(data)\n",
        "print (fdist1.most_common(300))"
      ]
    },
    {
      "cell_type": "code",
      "source": [
        ""
      ],
      "metadata": {
        "id": "AjVYFIURMXSt"
      },
      "execution_count": null,
      "outputs": []
    },
    {
      "cell_type": "markdown",
      "source": [
        "[('1', 360), ('buah', 227), ('2', 150), ('bawang', 146), ('sdm', 132), ('sdt', 124), ('siung', 103), ('gram', 102), ('3', 94), ('1/2', 91), ('putih', 88), ('Secukupnya', 80), ('merah', 61), ('secukupnya', 60), ('daun', 59), ('bubuk', 56), ('ayam', 53), ('garam', 51), ('air', 50), ('butir', 49), ('ml', 47), ('dan', 47), ('4', 45), ('telur', 45), ('wortel', 44), ('lada', 39), ('potong', 35), ('batang', 34), ('1/4', 33), ('Garam', 32), ('lembar', 32), ('gula', 31), ('tepung', 31), ('5', 29), ('iris', 28), ('kaldu', 28), ('cabai', 27), ('ukuran', 26), ('Bawang', 25), ('manis', 25), ('halus', 24), ('jamur', 23), ('saus', 23), ('minyak', 23), ('tahu', 23), ('50', 22), ('sendok', 22), ('cincang', 21), ('kecil', 20), ('dada', 20), ('tomat', 20), ('ruas', 19), ('100', 19), ('hijau', 19), ('bh', 19), ('Daun', 18), ('susu', 18), ('6', 17), ('10', 17), ('selera', 17), ('putih,', 17), ('atau', 17), ('gr', 17), ('sedang', 16), ('sesuai', 16), ('tiram', 16), ('rawit', 16), ('parut', 16), ('madu', 15), ('salam', 15), ('cabe', 15), ('Kecap', 15), ('(opsional)', 14), ('ikat', 14), ('besar', 14), ('jeruk', 14), ('geprek', 14), ('Wortel', 14), ('pisang', 13), ('jagung', 13), ('kecap', 13), ('Air', 13), ('grm', 13), ('cm', 12), ('kacang', 12), ('jahe', 12), ('(potong', 12), ('biji', 12), ('150', 11), ('Gula', 11), ('kotak', 11), ('garam,', 11), ('tipis', 11), ('kentang', 11), ('Saus', 11), ('fillet', 11), ('kayu', 10), ('Kaldu', 10), ('bungkus', 10), ('goreng', 10), ('chia', 10), ('rebus', 10), ('kunyit', 10), ('penyedap', 10), ('brokoli', 10), ('haluskan', 10), ('bombay', 9), ('250', 9), ('liter', 9), ('pasir', 9), ('Sedikit', 9), ('kg', 9), ('Sejumput', 9), ('200', 9), ('terigu', 9), ('Telur', 9), ('Lada', 8), ('kuning', 8), ('merica', 8), ('wortel,', 8), ('bawang,', 8), ('untuk', 8), ('sawi', 8), ('kol', 8), ('8', 8), ('dengan', 8), ('tapioka', 8), ('matang', 8), ('yang', 8), ('cair', 8), ('bonggol', 8), ('keriting', 8), ('kulit', 8), ('rasa', 8), ('dadu', 8), ('cup', 8), ('Jagung', 8), ('Ayam', 7), ('Penyedap', 7), ('ekor', 7), ('labu', 7), ('ikan', 7), ('oat', 7), ('(bisa', 7), ('selera)', 7), ('20', 7), ('buncis', 7), ('wijen', 7), ('zaitun', 7), ('almond', 7), ('ketumbar', 7), ('Buah', 7), ('bayam', 7), ('Minyak', 6), ('Putih', 6), ('nanas', 6), ('kismis', 6), ('bumbu', 6), ('giling', 6), ('gula,', 6), ('kurma', 6), ('telur,', 6), ('7', 6), ('tanpa', 6), ('tulang', 6), ('olive', 6), ('lemon', 6), ('Jeruk', 6), ('dari', 6), ('Bahan', 6), ('daging', 6), ('jari', 6), ('sudah', 6), ('potong-potong', 6), ('kemiri', 6), ('roti', 6), ('pakai', 6), ('teh', 6), ('Tepung', 6), ('makan', 6), ('bisa', 6), (':', 6), ('(sy', 6), ('seledri', 5), ('cengkeh', 5), ('Sawi', 5), ('500', 5), ('400', 5), ('Kacang', 5), ('bagian', 5), ('pala', 5), ('timun', 5), ('apel', 5), ('instan', 5), ('Garam,', 5), ('pandan', 5), ('keping', 5), ('lada,', 5), ('25', 5), ('oil', 5), ('naga', 5), ('hitam', 5), ('seed', 5), ('sedikit', 5), ('tempe', 5), ('bakso', 5), ('maizena', 5), ('kupas', 5), ('Buncis', 5), ('bubuk,', 5), ('30', 5), ('Jamur', 5), ('saja', 5), ('tawar', 5), ('low', 5), ('ambil', 5), ('di', 5), ('Kol', 5), ('pake', 5), ('Bumbu', 5), ('Mentega', 5), ('(haluskan)', 5), ('Rasa', 4), ('siam', 4), ('bihun', 4), ('Bakso', 4), ('sachet', 4), ('ayam,', 4), ('kembang', 4), ('Cabai', 4), ('ubi', 4), ('fiber', 4), ('helai', 4), ('2-3', 4), ('oats', 4), ('baking', 4), ('daunnya', 4), ('serai', 4), ('nipis', 4), ('sop', 4), ('tanah', 4), ('kencur', 4), ('Tiram', 4), ('keju', 4), ('asin', 4), ('oatmeal', 4), ('air\\n1', 4), ('kocok', 4), ('terasi', 4), ('kampung', 4), ('beras', 4), ('75', 4), ('Beras', 4), ('pokcoy', 4), ('asam', 4), ('sangrai', 4), ('Ikan', 4), ('Brokoli', 4), ('Susu', 4), ('Selada', 4), ('Saos', 4), ('kira2', 4), ('btg', 4), ('Tomat', 4), ('+', 4), ('iris2', 4), ('Merah', 3), ('hangat', 3), ('Merica', 3), ('Garam\\n1', 3), ('kasar', 3), ('buang', 3), ('12', 3), ('pisahkan', 3), ('kapulaga', 3), ('panas', 3), ('Madu', 3), ('santan', 3), ('(sesuai', 3), ('seeds', 3), ('powder', 3), ('protein', 3), ('coklat', 3), ('muda', 3), ('dadu)', 3), ('es', 3), ('lengkuas', 3), ('kelapa', 3), ('300', 3), ('genggam', 3), ('sapi', 3), ('parsley', 3), ('bombai', 3), ('kale', 3), ('Manis', 3), ('Asin', 3), ('sosis', 3), ('kecil)', 3), ('rolled', 3), ('Serai', 3)]"
      ],
      "metadata": {
        "id": "WwTMtoQzMX4b"
      }
    }
  ]
}