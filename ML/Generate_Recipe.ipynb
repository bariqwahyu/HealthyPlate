{
  "nbformat": 4,
  "nbformat_minor": 0,
  "metadata": {
    "colab": {
      "name": "Generate Recipe.ipynb",
      "provenance": [],
      "include_colab_link": true
    },
    "kernelspec": {
      "name": "python3",
      "display_name": "Python 3"
    },
    "language_info": {
      "name": "python"
    }
  },
  "cells": [
    {
      "cell_type": "markdown",
      "metadata": {
        "id": "view-in-github",
        "colab_type": "text"
      },
      "source": [
        "<a href=\"https://colab.research.google.com/github/intancitra/healthyplate/blob/main/ML/Generate_Recipe.ipynb\" target=\"_parent\"><img src=\"https://colab.research.google.com/assets/colab-badge.svg\" alt=\"Open In Colab\"/></a>"
      ]
    },
    {
      "cell_type": "code",
      "source": [
        "!git clone https://github.com/intancitra/healthyplate.git"
      ],
      "metadata": {
        "colab": {
          "base_uri": "https://localhost:8080/"
        },
        "id": "3zpT11bh7Gcb",
        "outputId": "c5a756a8-e76a-45eb-c808-72e0a53dd11a"
      },
      "execution_count": null,
      "outputs": [
        {
          "output_type": "stream",
          "name": "stdout",
          "text": [
            "Cloning into 'healthyplate'...\n",
            "remote: Enumerating objects: 48, done.\u001b[K\n",
            "remote: Counting objects: 100% (48/48), done.\u001b[K\n",
            "remote: Compressing objects: 100% (47/47), done.\u001b[K\n",
            "remote: Total 48 (delta 18), reused 0 (delta 0), pack-reused 0\u001b[K\n",
            "Unpacking objects: 100% (48/48), done.\n"
          ]
        }
      ]
    },
    {
      "cell_type": "code",
      "execution_count": null,
      "metadata": {
        "id": "d7O-ddVsb2zV",
        "colab": {
          "base_uri": "https://localhost:8080/"
        },
        "outputId": "23fcf777-13a5-4d23-c776-b1e42a1fbdaa"
      },
      "outputs": [
        {
          "output_type": "stream",
          "name": "stdout",
          "text": [
            "['9', '10', '44', '47']\n"
          ]
        }
      ],
      "source": [
        "import csv\n",
        "\n",
        "keyword = ['Kemangi', 'Apel']\n",
        "result = []\n",
        "with open(\"./healthyplate/Bahan 50.csv\", 'r') as csvfile:\n",
        "  csv_reader = csv.DictReader(csvfile)\n",
        "  line_count = 1\n",
        "  for row in csv_reader:\n",
        "    for key in keyword:\n",
        "      if key in row[\"Bahan-Bahan\"]:\n",
        "        result.append(str(line_count))\n",
        "        break\n",
        "    line_count += 1\n",
        "\n",
        "print(result)"
      ]
    },
    {
      "cell_type": "code",
      "source": [
        "#Remove duplicates of the result\n",
        "res = set(map(int,result))\n",
        "print(res)"
      ],
      "metadata": {
        "colab": {
          "base_uri": "https://localhost:8080/"
        },
        "id": "ItHcsbWWdACn",
        "outputId": "7baa0c1e-a423-44a9-e628-88b90763cc98"
      },
      "execution_count": null,
      "outputs": [
        {
          "output_type": "stream",
          "name": "stdout",
          "text": [
            "{9, 10, 44, 47}\n"
          ]
        }
      ]
    },
    {
      "cell_type": "code",
      "source": [
        "#Show the recipe based on the result (ID)\n",
        "recipe = []\n",
        "with open(\"./healthyplate/Bahan 50.csv\", 'r') as csvfile:\n",
        "  csv_reader = csv.reader(csvfile, delimiter=',')\n",
        "  line_count = 0\n",
        "  for row in csv_reader:\n",
        "    if line_count in res:\n",
        "      recipe.append(row[1])\n",
        "    line_count += 1\n",
        "\n",
        "print(recipe)"
      ],
      "metadata": {
        "colab": {
          "base_uri": "https://localhost:8080/"
        },
        "id": "I1LunjDedFTn",
        "outputId": "1059544c-d032-4bed-eff7-7c8fdf8b50f5"
      },
      "execution_count": null,
      "outputs": [
        {
          "output_type": "stream",
          "name": "stdout",
          "text": [
            "['Acar Sehat Madu', 'Jus Apel Sehat', 'Healthy Apple Crumble', 'Smoothies Sehat']\n"
          ]
        }
      ]
    }
  ]
}